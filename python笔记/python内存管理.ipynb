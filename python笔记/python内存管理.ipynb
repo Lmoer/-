{
 "cells": [
  {
   "cell_type": "markdown",
   "metadata": {},
   "source": [
    "# python Python垃圾回收机制Garbage collection(GC)\n",
    "\n",
    "    Python中的垃圾回收是以引用计数为主，分代收集为辅。引用计数的缺陷是循环引用的问题。\n",
    "    在Python中，如果一个对象的引用数为0，Python虚拟机就会回收这个对象的内存。\n",
    "    \n",
    "    https://www.itcodemonkey.com/article/1197.html\n",
    "    http://kkpattern.github.io/2015/06/20/python-memory-optimization-zh.html\n",
    "    https://testerhome.com/topics/16556"
   ]
  },
  {
   "cell_type": "code",
   "execution_count": 1,
   "metadata": {},
   "outputs": [],
   "source": [
    "class ClassA():\n",
    "    def __init__(self):\n",
    "        print('object born,id:%s'%str(hex(id(self))))\n",
    "    def __del__(self):\n",
    "        print('object del,id:%s'%str(hex(id(self))))\n",
    "\n",
    "def f1():\n",
    "    c1=ClassA()\n",
    "    del c1"
   ]
  },
  {
   "cell_type": "code",
   "execution_count": 3,
   "metadata": {},
   "outputs": [
    {
     "name": "stdout",
     "output_type": "stream",
     "text": [
      "object born,id:0x7f77fc024908\n",
      "object del,id:0x7f77fc024908\n"
     ]
    }
   ],
   "source": [
    " f1()"
   ]
  },
  {
   "cell_type": "raw",
   "metadata": {},
   "source": [
    "执行f1()会给一个类分配内存并释放，而且进程占用的内存基本不会变动\n",
    "c1=ClassA()会创建一个对象，放在0x7f77fc024908内存中，c1变量指向这个内存，这时候这个内存的引用计数是1\n",
    "del c1后，c1变量不再指向0x7f77fc024908内存，所以这块内存的引用计数减一，等于0，所以就销毁了这个对象，然后释放内存。"
   ]
  },
  {
   "cell_type": "markdown",
   "metadata": {},
   "source": [
    "# #导致引用计数+1的情况\n",
    "    1、对象被创建，例如a=23\n",
    "    2、对象被引用，例如b=a\n",
    "    3、对象被作为参数，传入到一个函数中，例如func(a)\n",
    "    4、对象作为一个元素，存储在容器中，例如list1=[a,a]"
   ]
  },
  {
   "cell_type": "markdown",
   "metadata": {},
   "source": [
    "# #导致引用计数-1的情况\n",
    "    1、对象的别名被显式销毁，例如del a\n",
    "    2、对象的别名被赋予新的对象，例如a=24\n",
    "    3、一个对象离开它的作用域，例如f函数执行完毕时，func函数中的局部变量（全局变量不会）\n",
    "    4、对象所在的容器被销毁，或从容器中删除对象\n",
    "\n",
    "##查看一个对象的引用计数\n",
    "sys.getrefcount(a)可以查看a对象的引用计数，但是比正常计数大1，因为调用函数的时候传入a，这会让a的引用计数+1"
   ]
  },
  {
   "cell_type": "code",
   "execution_count": 1,
   "metadata": {},
   "outputs": [
    {
     "name": "stdout",
     "output_type": "stream",
     "text": [
      "init 140\n",
      "after a=11 141\n",
      "after b=1 142\n",
      "in func function 144\n",
      "after func(a) 142\n",
      "after list1=[a,12,14] 143\n",
      "after a=12 142\n",
      "after del a 142\n",
      "after del b 141\n",
      "after del list1 140\n"
     ]
    }
   ],
   "source": [
    "#引用计数实验  sys.getrefcount(c) 获取对象在系统中的引用数\n",
    "import sys\n",
    "\n",
    "def func(c):\n",
    "     print('in func function', sys.getrefcount(c) - 1)\n",
    "\n",
    "\n",
    "print('init', sys.getrefcount(11) - 1)\n",
    "\n",
    "a = 11\n",
    "print('after a=11', sys.getrefcount(11) - 1)\n",
    "\n",
    "b = a\n",
    "print('after b=1', sys.getrefcount(11) - 1)\n",
    "\n",
    "func(11)\n",
    "print('after func(a)', sys.getrefcount(11) - 1)\n",
    "\n",
    "list1 = [a, 12, 14]\n",
    "print('after list1=[a,12,14]', sys.getrefcount(11) - 1)\n",
    "\n",
    "a=12\n",
    "print('after a=12', sys.getrefcount(11) - 1)\n",
    "\n",
    "del a\n",
    "print('after del a', sys.getrefcount(11) - 1)\n",
    "\n",
    "del b\n",
    "print('after del b', sys.getrefcount(11) - 1)\n",
    "\n",
    "del list1\n",
    "print('after del list1', sys.getrefcount(11) - 1)"
   ]
  },
  {
   "cell_type": "markdown",
   "metadata": {},
   "source": [
    "# 循环引用导致内存泄露"
   ]
  },
  {
   "cell_type": "code",
   "execution_count": 3,
   "metadata": {},
   "outputs": [
    {
     "name": "stdout",
     "output_type": "stream",
     "text": [
      "object born,id:0x7febe9601588\n",
      "object born,id:0x7febe9601630\n"
     ]
    }
   ],
   "source": [
    "class ClassA():\n",
    "    def __init__(self):\n",
    "        print('object born,id:%s'%str(hex(id(self))))\n",
    "    def __del__(self):\n",
    "        print('object del,id:%s'%str(hex(id(self))))\n",
    "        \n",
    "def f2():\n",
    "    c1=ClassA()\n",
    "    c2=ClassA()\n",
    "    c1.t=c2\n",
    "    c2.t=c1\n",
    "    del c1\n",
    "    del c2\n",
    "f2()"
   ]
  },
  {
   "cell_type": "markdown",
   "metadata": {},
   "source": [
    "    创建了c1，c2后，0x7febe9601588（c1对应的内存，记为内存1）,0x7febe9601630（c2对应的内存，记为内存2）这两块内存的引用计数都是1.\n",
    "    执行c1.t=c2和c2.t=c1后，这两块内存的引用计数变成2.\n",
    "\n",
    "    在del c1后，内存1的对象的引用计数变为1，由于不是为0，所以内存1的对象不会被销毁，所以内存2的对象的引用数依然是2，在del c2后，同理，内存1的对象，内存2的对象的引用数都是1。\n",
    "\n",
    "    虽然它们两个的对象都是可以被销毁的，但是由于循环引用，导致垃圾回收器都不会回收它们，所以就会导致内存泄露。已经没有外部引用，但内存仍然存在。"
   ]
  },
  {
   "cell_type": "markdown",
   "metadata": {},
   "source": [
    "# 垃圾回收"
   ]
  },
  {
   "cell_type": "code",
   "execution_count": 9,
   "metadata": {},
   "outputs": [
    {
     "name": "stdout",
     "output_type": "stream",
     "text": [
      "object born,id:0x7ff59029f518\n",
      "object born,id:0x7ff59029f400\n",
      "object del,id:0x7ff59029f518\n",
      "object del,id:0x7ff59029f400\n",
      "垃圾回收个数： 11\n"
     ]
    },
    {
     "name": "stderr",
     "output_type": "stream",
     "text": [
      "gc: collecting generation 2...\n",
      "gc: objects in each generation: 445 0 50579\n",
      "gc: done, 11 unreachable, 0 uncollectable, 0.0135s elapsed\n"
     ]
    }
   ],
   "source": [
    "import time\n",
    "import gc\n",
    "\n",
    "\n",
    "class ClassA():\n",
    "    def __init__(self):\n",
    "        print('object born,id:%s'%str(hex(id(self))))\n",
    "    def __del__(self):\n",
    "        print('object del,id:%s'%str(hex(id(self))))\n",
    "        \n",
    "def f3():\n",
    "    c1=ClassA()\n",
    "    c2=ClassA()\n",
    "    c1.t=c2\n",
    "    c2.t=c1\n",
    "    del c1\n",
    "    del c2\n",
    "    gc.garbage#print(\"垃圾回收前：\",gc.garbage)\n",
    "    print(\"垃圾回收个数：\",gc.collect()) #显式执行垃圾回收\n",
    "    gc.garbage#print(\"垃圾回收后：\",gc.garbage)\n",
    "    time.sleep(1)\n",
    "if __name__ == '__main__':\n",
    "    gc.set_debug(1) #设置gc模块的日志gc.DEBUG_LEAK\n",
    "    f3() #相比于f2, f3 调用 gc.collect() 解决了循环引用问题\n",
    "    "
   ]
  },
  {
   "cell_type": "markdown",
   "metadata": {},
   "source": [
    "垃圾回收后的对象会放在gc.garbage列表里面\n",
    "gc.collect()会返回外部引用不可达的对象数目，11为两个对象以及它们在jupyter中额外对应的dict\n",
    "\n",
    "有三种情况会触发垃圾回收：\n",
    "    1.调用gc.collect(),\n",
    "    2.当gc模块的计数器达到阀值的时候（自动垃圾回收）。\n",
    "    3.程序退出的时候"
   ]
  },
  {
   "cell_type": "markdown",
   "metadata": {},
   "source": [
    "# gc模块常用功能解析"
   ]
  },
  {
   "cell_type": "markdown",
   "metadata": {},
   "source": [
    "常用函数：\n",
    " \n",
    "     gc.set_debug(flags)\n",
    "    设置gc的debug日志，一般设置为gc.DEBUG_LEAK\n",
    "    \n",
    "    gc.collect([generation])\n",
    "    显式进行垃圾回收，可以输入参数，0代表只检查第一代的对象，1代表检查一，二代的对象，2代表检查一，二，三代的对象，如果不传参数，执行一个full collection，也就是等于传2。\n",
    "    返回不可达（unreachable objects）对象的数目\n",
    "    \n",
    "    gc.set_threshold(threshold0[, threshold1[, threshold2])\n",
    "    设置自动执行垃圾回收的频率。\n",
    "    \n",
    "    gc.get_count()\n",
    "    获取当前自动执行垃圾回收的计数器，返回一个长度为3的列表"
   ]
  },
  {
   "cell_type": "markdown",
   "metadata": {},
   "source": [
    "# gc模块的自动垃圾回收触发机制\n",
    "必须要import gc模块，垃圾回收机制python默认开启的，gc.disable() 可关闭垃圾回收机制，当程序完成时，垃圾最后仍被回收\n",
    "这个机制的主要作用就是发现并处理不可达的垃圾对象。"
   ]
  },
  {
   "cell_type": "markdown",
   "metadata": {},
   "source": [
    "    在Python中，采用分代收集的方法。把对象分为三代，一开始，对象在创建的时候，放在一代中，如果在一次一代的垃圾检查中，若对象存活下来，就会被放到二代中，同理在一次二代的垃圾检查中，该对象存活下来，就会被放到三代中。\n",
    "\n",
    "    gc模块里面会有一个长度为3的列表的计数器，可以通过gc.get_count()获取。\n",
    "\n",
    "    例如(488,3,0)，其中488是指距离上一次一代垃圾检查，Python分配内存的数目减去释放内存的数目，注意是内存分配，而不是引用计数的增加。3是指距离上一次二代垃圾检查，一代垃圾检查的次数，同理，0是指距离上一次三代垃圾检查，二代垃圾检查的次数。"
   ]
  },
  {
   "cell_type": "code",
   "execution_count": 12,
   "metadata": {},
   "outputs": [
    {
     "name": "stdout",
     "output_type": "stream",
     "text": [
      "(23, 0, 0)\n",
      "object born,id:0x7f9c6855ccf8\n",
      "(48, 0, 0)\n",
      "object del,id:0x7f9c6855ccf8\n",
      "(34, 0, 0)\n"
     ]
    },
    {
     "name": "stderr",
     "output_type": "stream",
     "text": [
      "gc: collectable <type 0x10cf4e8>\n",
      "gc: collectable <tuple 0x7f9c684f6688>\n",
      "gc: collectable <dict 0x7f9c6849ef78>\n",
      "gc: collectable <function 0x7f9c6848bd90>\n",
      "gc: collectable <function 0x7f9c6848be18>\n",
      "gc: collectable <getset_descriptor 0x7f9c68427480>\n",
      "gc: collectable <getset_descriptor 0x7f9c684274c8>\n"
     ]
    }
   ],
   "source": [
    "import time\n",
    "import gc\n",
    "\n",
    "class ClassA():\n",
    "    def __init__(self):\n",
    "        print('object born,id:%s'%str(hex(id(self))))\n",
    "    def __del__(self):\n",
    "        print('object del,id:%s'%str(hex(id(self))))\n",
    "\n",
    "\n",
    "print(gc.get_count()) \n",
    "a = ClassA()\n",
    "print(gc.get_count()) \n",
    "del a\n",
    "print(gc.get_count()) "
   ]
  },
  {
   "cell_type": "markdown",
   "metadata": {},
   "source": [
    "### gc模快有一个自动垃圾回收的阀值，即通过gc.get_threshold函数获取到的长度为3的元组，例如(700,10,10) 每一次计数器的增加，gc模块就会检查增加后的计数是否达到阀值的数目，如果是，就会执行对应的代数的垃圾检查，然后重置计数器"
   ]
  },
  {
   "cell_type": "markdown",
   "metadata": {},
   "source": [
    "#### 假设阀值是(700,10,10)：\n",
    "    当计数器从(699,3,0)增加到(700,3,0)，gc模块就会执行gc.collect(0),即检查一代对象的垃圾，并重置计数器为(0,4,0)\n",
    "    当计数器从(699,9,0)增加到(700,9,0)，gc模块就会执行gc.collect(1),即检查一、二代对象的垃圾，并重置计数器为(0,0,1)\n",
    "    当计数器从(699,9,9)增加到(700,9,9)，gc模块就会执行gc.collect(2),即检查一、二、三代对象的垃圾，并重置计数器为(0,0,0)"
   ]
  },
  {
   "cell_type": "markdown",
   "metadata": {},
   "source": [
    "        被分配对象的计数值与被释放对象的计数值之间的差异在逐渐增长。一旦这个差异累计超过某个阈值，\n",
    "    则Python的收集机制就启动了,将内存进行代数转移（提升）\n",
    "    \n",
    "    垃圾回收器会更频繁的处理新对象。一个新的对象即是你的程序刚刚创建的，而一个来的对象则是经过了几个时间周期之后仍然存在的对象。Python会在当一个对象从一代移动到二代，或是从二代移动到三代的过程中提升(promote)这个对象。\n",
    "    为什么要这么做？这种算法的根源来自于弱代假说(weak generational hypothesis)。这个假说由两个观点构成：首先是年亲的对象通常死得也快，而老对象则很有可能存活更长的时间。"
   ]
  },
  {
   "cell_type": "markdown",
   "metadata": {},
   "source": [
    "# python中避免出现内存泄漏的方法"
   ]
  },
  {
   "cell_type": "markdown",
   "metadata": {},
   "source": [
    "    1、项目中避免循环引用\n",
    "    \n",
    "    2、引入gc模块，启动gc模块的自动清理循环引用的对象机制\n",
    "    \n",
    "    3、由于分代收集，所以把需要长期使用的变量集中管理，并尽快移到二代以后，减少GC检查时的消耗\n",
    "    \n",
    "    4、gc模块唯一处理不了的是循环引用的类都有__del__方法，因为gc模块不知道要先调用哪个方法，所以项目中要避免定义__del__方法，如果一定要使用该方法，同时导致了循环引用，需要代码显式调用gc.garbage里面的对象的__del__来打破僵局"
   ]
  },
  {
   "cell_type": "markdown",
   "metadata": {},
   "source": [
    "# python自动垃圾回收机制是默认开启的，有时会比较耗时\n",
    "# 可以进行必要的性能调整"
   ]
  },
  {
   "cell_type": "markdown",
   "metadata": {},
   "source": [
    "#### （1） 在这种情况下，首先要使用 gc 模块的 set_debug() 来查找原因\n",
    "#### import gc\n",
    "#### gc.set_debug(gc.DEBUG_STATS)\n",
    "#### gc.collect()\n",
    "####  #gc: collecting generation 2...\n",
    "####  #gc: objects in each generation: 10 0 13607\n",
    "####  #gc: done, 0.0087s elapsed."
   ]
  },
  {
   "cell_type": "markdown",
   "metadata": {},
   "source": [
    "一旦用 set_debug() 设定了 gc.DEBUG_STATS 标志，那么每次进行循环引用垃圾回收，\n",
    "就都会输出以下信息。\n",
    "1. GC 对象的代\n",
    "2. 各代内对象的数量\n",
    "3. 循环引用垃圾回收所花费的时间"
   ]
  },
  {
   "cell_type": "markdown",
   "metadata": {},
   "source": [
    "####  （2）使用 gc.collect() ，就能在应用程序运行过程中的任意时刻执行循环引用垃圾回收了。也就是说，这样一来就可以在应用程序空闲或者等待执行的期间执行 GC 了。"
   ]
  },
  {
   "cell_type": "markdown",
   "metadata": {},
   "source": [
    "####  （3）用 gc.disable() 试试吧，这也是一种手段。一旦调用 gc.disable()，循环引用垃圾回收就停止运作了。也就是说，循环引用的垃圾对象群一直不会得到释放。然而从应用程序整体的角度来看，如果循环引用的对象的大小可以忽视，那么这个方法也不失为一个好方法。这就需要我们自己来权衡了。由于一次垃圾回收比较耗时，可以调高垃圾回收阈值，减少垃圾回收频率"
   ]
  },
  {
   "cell_type": "markdown",
   "metadata": {},
   "source": [
    "####  (4)避免循环引用或使用弱引用（weakref库）"
   ]
  },
  {
   "cell_type": "markdown",
   "metadata": {},
   "source": [
    "# 总的来说，python的内存管理机制是以引用计数为主的，引用计数会导致循环引用\n",
    "\n",
    "# 的对象内存无法清除，从而python引入了基于分代回收的自动垃圾回收机制（比较\n",
    "\n",
    "# 耗时，默认），来清除存在循环引用的对象内存，这个自动垃圾回收机制（通过\n",
    "\n",
    "# gc.set_threshold来调整回收周期）可以手动回收（gc.collect()语句）"
   ]
  },
  {
   "cell_type": "markdown",
   "metadata": {},
   "source": [
    "\n",
    "# python3.4之后没有下列问题了\n",
    "\n",
    "# .........................................分隔线.......................................................\n",
    "\n",
    "# python默认的计数引用和垃圾回收内存管理，还是会导致内存泄露！"
   ]
  },
  {
   "cell_type": "markdown",
   "metadata": {},
   "source": [
    "#### 循环引用中的对象定义了__del__函数，这个在《程序员必知的Python陷阱与缺陷列表》一文中有详细介绍，简而言之，如果定义了__del__函数，那么在循环引用中Python解释器无法判断析构对象的顺序，因此就不会处理（python3.4)   python 3.6已经不存在这个问题了"
   ]
  },
  {
   "cell_type": "code",
   "execution_count": 10,
   "metadata": {},
   "outputs": [
    {
     "name": "stderr",
     "output_type": "stream",
     "text": [
      "gc: collectable <T2 0x7f9c68509b70>\n",
      "gc: collectable <T2 0x7f9c68509fd0>\n",
      "gc: collectable <dict 0x7f9c6849a2d0>\n",
      "gc: collectable <dict 0x7f9c6849ac18>\n"
     ]
    },
    {
     "data": {
      "text/plain": [
       "4"
      ]
     },
     "execution_count": 10,
     "metadata": {},
     "output_type": "execute_result"
    }
   ],
   "source": [
    "import gc\n",
    "\n",
    "class T2(object):\n",
    "\tdef __del__(self):\n",
    "\t\tpass\n",
    "\n",
    "def test_uncollectable():\n",
    "\ta = T2()\n",
    "\tb = T2()\n",
    "\ta.child = b\n",
    "\tb.parent = a\n",
    "\n",
    "gc.collect()\n",
    "gc.set_debug(gc.DEBUG_UNCOLLECTABLE | gc.DEBUG_LEAK)\n",
    "test_uncollectable()\n",
    "gc.collect()"
   ]
  },
  {
   "cell_type": "code",
   "execution_count": null,
   "metadata": {},
   "outputs": [],
   "source": []
  }
 ],
 "metadata": {
  "kernelspec": {
   "display_name": "py3.6(ljy)",
   "language": "python",
   "name": "ljyflask3.6"
  },
  "language_info": {
   "codemirror_mode": {
    "name": "ipython",
    "version": 3
   },
   "file_extension": ".py",
   "mimetype": "text/x-python",
   "name": "python",
   "nbconvert_exporter": "python",
   "pygments_lexer": "ipython3",
   "version": "3.6.2"
  }
 },
 "nbformat": 4,
 "nbformat_minor": 2
}
