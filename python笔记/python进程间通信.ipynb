{
 "cells": [
  {
   "cell_type": "markdown",
   "metadata": {},
   "source": [
    "# python进程间通信\n",
    "python实现进程间的通信有Queue,Pipe,Value+Array等,其中Queue实现多个进程间的通信,而Pipe实现两个进程间通信,而Value+Array使用得是共享内存映射文件的方式,所以速度比较快"
   ]
  },
  {
   "cell_type": "markdown",
   "metadata": {},
   "source": [
    "##  1、队列"
   ]
  },
  {
   "cell_type": "code",
   "execution_count": 1,
   "metadata": {},
   "outputs": [
    {
     "name": "stdout",
     "output_type": "stream",
     "text": [
      "Process to write: 32619\n",
      "Put A to queue...\n",
      "Process to read: 32620\n",
      "Get A from queue.\n",
      "Put B to queue...\n",
      "Get B from queue.\n",
      "Put C to queue...\n",
      "Get C from queue.\n"
     ]
    }
   ],
   "source": [
    "# -*- coding:utf-8 -*-\n",
    "from multiprocessing import Process, Queue\n",
    "import os\n",
    "import time\n",
    "import random\n",
    "\n",
    "\n",
    "# 写数据进程执行的代码:\n",
    "def write(q):\n",
    "    print('Process to write: %s' % os.getpid())\n",
    "    for value in ['A', 'B', 'C']:\n",
    "        print('Put %s to queue...' % value)\n",
    "        q.put(value)\n",
    "        time.sleep(random.random())\n",
    "\n",
    "\n",
    "# 读数据进程执行的代码:\n",
    "def read(q):\n",
    "    print('Process to read: %s' % os.getpid())\n",
    "    while True:\n",
    "        value = q.get()\n",
    "        print('Get %s from queue.' % value)\n",
    "\n",
    "\n",
    "if __name__ == '__main__':\n",
    "    # 父进程创建Queue，并传给各个子进程：\n",
    "    q = Queue()\n",
    "    pw = Process(target=write, args=(q,))\n",
    "    pr = Process(target=read, args=(q,))\n",
    "    # 启动子进程pw，写入:\n",
    "    pw.start()\n",
    "    # 启动子进程pr，读取:\n",
    "    pr.start()\n",
    "    # 等待pw结束:\n",
    "    pw.join()\n",
    "    # pr进程里是死循环，无法等待其结束，只能强行终止:\n",
    "    pr.terminate()"
   ]
  },
  {
   "cell_type": "markdown",
   "metadata": {},
   "source": [
    "以Queue为例，在父进程中创建两个子进程，一个往Queue里写数据，一个从Queue里读数据：\n",
    "\n",
    "multiprcessing.Queue.put() 为 入队操作\n",
    "\n",
    "multiprcessing.Queue.get() 为 出队操作\n",
    "\n",
    "队列 线程 和 进程 安全\n",
    "\n",
    "put(obj[, block[, timeout]])\n",
    "\n",
    "将obj放入队列。 如果可选参数 block为True（默认值），timeout为None（默认值），则必要时阻止，直到空闲插槽可用。 如果超时是正数，它将阻止最多超时秒数，如果在该时间内没有空闲插槽可用，则会引发Queue.Full异常。 否则（块为False），如果空闲插槽立即可用，则将一个项目放在队列中，否则会引发Queue.Full异常（在这种情况下，忽略超时）。\n",
    "\n",
    "get([block[, timeout]])\n",
    "\n",
    "从队列中删除并返回一个项目。 如果可选的args块为True（默认值），超时为None（默认值），则在必要时阻止，直到项目可用。 如果超时为正数，则它将阻塞至多超时秒数，并在该时间内没有可用项目时引发Queue.Empty异常。 否则（block为False），如果一个项目立即可用，返回一个项目，否则会引发Queue.Empty异常（在这种情况下，忽略超时）。\n"
   ]
  },
  {
   "cell_type": "markdown",
   "metadata": {},
   "source": [
    "# 2、管道pipe"
   ]
  },
  {
   "cell_type": "code",
   "execution_count": null,
   "metadata": {},
   "outputs": [
    {
     "name": "stdout",
     "output_type": "stream",
     "text": [
      "child rec: 666\n",
      "parent rec: [42, None, 'hello']\n"
     ]
    }
   ],
   "source": [
    "# -*- coding:utf-8 -*-\n",
    "from multiprocessing import Process, Pipe\n",
    "\n",
    "\n",
    "def f(conn):\n",
    "    conn.send([42, None, 'hello'])\n",
    "    while True:\n",
    "        print(\"child rec:\",conn.recv())\n",
    "\n",
    "if __name__ == '__main__':\n",
    "    parent_conn, child_conn = Pipe()\n",
    "    p = Process(target=f, args=(child_conn,))\n",
    "    p.start()\n",
    "    print(\"parent rec:\",parent_conn.recv())   # prints \"[42, None, 'hello']\"\n",
    "    parent_conn.send('666')\n",
    "    p.join()\n",
    "    p.terminate()\n"
   ]
  },
  {
   "cell_type": "markdown",
   "metadata": {},
   "source": [
    "Pipe（）函数返回一对由管道连接的连接对象，默认情况下是双工（双向）。\n",
    "\n",
    "Pipe（）返回的两个连接对象代表管道的两端。 每个连接对象都有send（）和recv（）方法（等等）。 请注意，如果两个进程（或线程）尝试同时读取或写入管道的同一端，管道中的数据可能会损坏。 当然，同时使用管道不同端的过程也不会有风险。\n",
    "\n",
    "返回表示管道末端的一对Connection（conn1，conn2）对象。\n",
    "\n",
    "如果duplex为True（默认），则管道是双向的。\n",
    "\n",
    "如果duplex是False，那么管道是单向的：conn1只能用于接收消息，conn2只能用于发送消息。\n"
   ]
  },
  {
   "cell_type": "markdown",
   "metadata": {},
   "source": [
    "# 3、manager 管道\n",
    "上面两种都是实现数据传递，现在实现数据共享，\n",
    "\n",
    "可实现的数据类型有很多：\n",
    "list, dict, Namespace, Lock, RLock, Semaphore, BoundedSemaphore, Condition, Event, Barrier, Queue, Value and Array"
   ]
  },
  {
   "cell_type": "code",
   "execution_count": 1,
   "metadata": {},
   "outputs": [
    {
     "name": "stdout",
     "output_type": "stream",
     "text": [
      "{1: '1', '2': 2}\n",
      "[0, 1, 2, 3, 4, 1, 1, 1, 1, 1, 1, 1, 1, 1, 1]\n"
     ]
    }
   ],
   "source": [
    "from multiprocessing import Process, Manager\n",
    " \n",
    "def f(d, l):\n",
    "    d[1] = '1'\n",
    "    d['2'] = 2\n",
    "    l.append(1)    #追加一个1\n",
    "    # print(l)\n",
    " \n",
    "if __name__ == '__main__':\n",
    "    d = Manager().dict()  # 生成一个字典，可在多个进程间共享和传递\n",
    "    l = Manager().list(range(5))  # 列表\n",
    " \n",
    "    p_list = [] #进程列表\n",
    "    for i in range(10):\n",
    "        p = Process(target=f, args=(d, l))  #循环10次每次创建一个进程\n",
    "        p.start()\n",
    "        p_list.append(p)    #加入进程列表里\n",
    " \n",
    "    for res in p_list:  #等所有进程结束\n",
    "        res.join()\n",
    " \n",
    "    print(d)\n",
    "    print(l)"
   ]
  }
 ],
 "metadata": {
  "kernelspec": {
   "display_name": "py3.6(ljy)",
   "language": "python",
   "name": "ljyflask3.6"
  },
  "language_info": {
   "codemirror_mode": {
    "name": "ipython",
    "version": 3
   },
   "file_extension": ".py",
   "mimetype": "text/x-python",
   "name": "python",
   "nbconvert_exporter": "python",
   "pygments_lexer": "ipython3",
   "version": "3.6.2"
  }
 },
 "nbformat": 4,
 "nbformat_minor": 2
}
