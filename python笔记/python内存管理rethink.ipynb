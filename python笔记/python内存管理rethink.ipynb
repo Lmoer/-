{
 "cells": [
  {
   "cell_type": "markdown",
   "metadata": {},
   "source": [
    "#  python内存管理rethinking"
   ]
  },
  {
   "cell_type": "markdown",
   "metadata": {},
   "source": [
    "什么情况存在内存泄露\n",
    "\n",
    "python引用计数 + 分代收集和标记清除（处理循环引用），进行垃圾回收，但如下两种情况依旧存在内存泄露：\n",
    "\n",
    "第一是对象被另一个生命周期特别长（如全局变量）的对象所引用\n",
    "\n",
    "第二是循环引用中的对象定义了__del__函数，简而言之，循环引用中Python无法判断析构对象的顺序，无法释放"
   ]
  },
  {
   "cell_type": "markdown",
   "metadata": {},
   "source": [
    "# 相关术语"
   ]
  },
  {
   "cell_type": "markdown",
   "metadata": {},
   "source": [
    "reachable/collectable（unreachable/uncollectable）\n",
    "\n",
    "reachable是针对python对象而言，如果从根集（root）能到找到对象，那么这个对象就是reachable，与之相反就是unreachable，unreachable只存在于循环引用中的对象，Python的gc模块就是针对unreachable对象\n",
    "\n",
    "collectable是针对unreachable对象而言，如果这种对象能被回收，是collectable，如果不能被回收，即循环引用中的对象定义了__del__， 那么就是uncollectable。 即unreachable (循环引用)分成 collectable和uncollectable（__del__）"
   ]
  },
  {
   "cell_type": "markdown",
   "metadata": {},
   "source": [
    "# GC模块"
   ]
  },
  {
   "cell_type": "markdown",
   "metadata": {},
   "source": [
    "This module provides access to the garbage collector for reference cycles.\n",
    "\n",
    "enable() -- Enable automatic garbage collection.\n",
    "\n",
    "disable() -- Disable automatic garbage collection.\n",
    "\n",
    "isenabled() -- Returns true if automatic collection is enabled.\n",
    "\n",
    "collect() -- Do a full collection right now. Tg"
   ]
  },
  {
   "cell_type": "markdown",
   "metadata": {},
   "source": [
    "gc.set_debug(flags)\n",
    "\n",
    "gc.DEBUG_COLLETABLE： 打印可以被垃圾回收器回收的对象 \n",
    "\n",
    "gc.DEBUG_UNCOLLETABLE： 打印无法被垃圾回收器回收的对象，即定义了__del__的对象 \n",
    "\n",
    "gc.DEBUG_SAVEALL:所有的unreachable对象都将加入gc.garbage返回的列表 \n",
    "\n",
    "gc.garbage: 返回是unreachable对象，且不能被回收的的对象，如果设置SAVEALL,所有unreachable都加入此列表\n"
   ]
  },
  {
   "cell_type": "markdown",
   "metadata": {},
   "source": [
    "# 禁用GC"
   ]
  },
  {
   "cell_type": "markdown",
   "metadata": {},
   "source": [
    "只要能手动解决循环引用，就可以禁止GC模块来提高效率，因为GC适用于循环引用的垃圾回收机制。 如果可以确定代码没有循环引用，那么可以禁用GC模块"
   ]
  },
  {
   "cell_type": "markdown",
   "metadata": {},
   "source": [
    "python3.4开始已经可以自动处理带有__del__方法的循环引用，也不会发生内存泄露了"
   ]
  },
  {
   "cell_type": "code",
   "execution_count": 1,
   "metadata": {},
   "outputs": [
    {
     "name": "stdout",
     "output_type": "stream",
     "text": [
      "foo init\n",
      "bar init\n",
      "Collecting...\n",
      "foo del\n",
      "bar del\n",
      "unreachable objects: 39\n",
      "[]\n"
     ]
    }
   ],
   "source": [
    "import gc\n",
    "\n",
    "\n",
    "class Foo(object):\n",
    "    def __init__(self):\n",
    "        self.bar = None\n",
    "        print('foo init')\n",
    "\n",
    "    def __del__(self):\n",
    "        print(\"foo del\")\n",
    "\n",
    "\n",
    "class Bar(object):\n",
    "    def __init__(self):\n",
    "        self.foo = None\n",
    "        print('bar init')\n",
    "\n",
    "    def __del__(self):\n",
    "        print('bar del')\n",
    "\n",
    "\n",
    "def collect_and_show_garbage():\n",
    "    print(\"Collecting...\")\n",
    "    n = gc.collect()\n",
    "    print(\"unreachable objects:\", n)\n",
    "    print(gc.garbage)\n",
    "\n",
    "\n",
    "def func():\n",
    "    foo = Foo()\n",
    "    bar = Bar()\n",
    "    foo.bar = bar\n",
    "    bar.foo = foo\n",
    "\n",
    "# gc.set_debug(gc.DEBUG_COLLECTABLE | gc.DEBUG_UNCOLLECTABLE)\n",
    "func()\n",
    "collect_and_show_garbage()"
   ]
  },
  {
   "cell_type": "markdown",
   "metadata": {},
   "source": [
    "gc.collect() 返回unreachable的数目，gc.garbage放有uncollectable的对象。3.6中可以处理循环引用且带有__del__的情况，所以gc.garbage为空。"
   ]
  },
  {
   "cell_type": "code",
   "execution_count": null,
   "metadata": {},
   "outputs": [],
   "source": []
  }
 ],
 "metadata": {
  "kernelspec": {
   "display_name": "py3.6(ljy)",
   "language": "python",
   "name": "ljyflask3.6"
  },
  "language_info": {
   "codemirror_mode": {
    "name": "ipython",
    "version": 3
   },
   "file_extension": ".py",
   "mimetype": "text/x-python",
   "name": "python",
   "nbconvert_exporter": "python",
   "pygments_lexer": "ipython3",
   "version": "3.6.2"
  }
 },
 "nbformat": 4,
 "nbformat_minor": 2
}
